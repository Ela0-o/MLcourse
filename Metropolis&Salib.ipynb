{
 "cells": [
  {
   "cell_type": "markdown",
   "id": "fa8bf8ac-9dd5-4d64-8373-8297c40e3ad4",
   "metadata": {},
   "source": [
    "1. Для f(x) = e^(-x^2/2) сделать выборку 10^6 методом Метрополиса"
   ]
  },
  {
   "cell_type": "code",
   "execution_count": 1,
   "id": "247ece1e-13e1-4809-ada3-81fae6aeb2f9",
   "metadata": {},
   "outputs": [
    {
     "data": {
      "image/png": "[encoded data removed]",
      "text/plain": [
       "<Figure size 640x480 with 1 Axes>"
      ]
     },
     "metadata": {},
     "output_type": "display_data"
    }
   ],
   "source": [
    "import numpy as np\n",
    "import matplotlib.pyplot as plt\n",
    "\n",
    "def f(x):\n",
    "    return np.exp(-x**2/2)\n",
    "\n",
    "def metropolis(iter, cur_x):\n",
    "    x_sample = [cur_x]\n",
    "\n",
    "    for _ in range(iter):\n",
    "        x_new = cur_x + np.random.normal(0, 1) # генерация нового предложенного значения\n",
    "        ratio = f(x_new) / f(cur_x) # отношение вероятностей\n",
    "        ksi = np.random.uniform(0, 1)\n",
    "\n",
    "        # Принятие или отклонение нового значения\n",
    "        if ksi < ratio:\n",
    "            cur_x = x_new\n",
    "        x_sample.append(cur_x)\n",
    "\n",
    "    return np.array(x_sample)\n",
    "\n",
    "# Количество итераций\n",
    "iterations = 10**6\n",
    "\n",
    "# Начальное значение\n",
    "init_x = 0\n",
    "\n",
    "# Генерация выборки методом Метрополиса\n",
    "sample = metropolis(iterations, init_x)\n",
    "\n",
    "# Вывод гистограммы выборки\n",
    "plt.hist(sample, bins=1000, density=True)\n",
    "# plt.hist(sample)\n",
    "plt.title('Гистограмма выборки методом Метрополиса')\n",
    "plt.xlabel('Значение')\n",
    "plt.ylabel('Частота')\n",
    "plt.show()\n"
   ]
  },
  {
   "cell_type": "markdown",
   "id": "72b2988d-64c6-4e86-ace5-48f650c0e160",
   "metadata": {},
   "source": [
    "2. С библиотекой SALib провести анализ чувствительности для f(x1,x2,x3) = 10^(-4)*sin(x1+x2)+x3"
   ]
  },
  {
   "cell_type": "code",
   "execution_count": 4,
   "id": "789aa523-e4e7-4f93-a20e-d66f604548f7",
   "metadata": {},
   "outputs": [
    {
     "name": "stdout",
     "output_type": "stream",
     "text": [
      "Requirement already satisfied: SALib in c:\\anaconda\\envs\\notebook-7.0.8_1\\lib\\site-packages (1.4.8)\n",
      "Requirement already satisfied: matplotlib>=3.2.2 in c:\\anaconda\\envs\\notebook-7.0.8_1\\lib\\site-packages (from SALib) (3.8.3)\n",
      "Requirement already satisfied: multiprocess in c:\\anaconda\\envs\\notebook-7.0.8_1\\lib\\site-packages (from SALib) (0.70.16)\n",
      "Requirement already satisfied: numpy>=1.20.3 in c:\\anaconda\\envs\\notebook-7.0.8_1\\lib\\site-packages (from SALib) (1.26.4)\n",
      "Requirement already satisfied: pandas>=1.2 in c:\\anaconda\\envs\\notebook-7.0.8_1\\lib\\site-packages (from SALib) (2.2.1)\n",
      "Requirement already satisfied: scipy>=1.7.3 in c:\\anaconda\\envs\\notebook-7.0.8_1\\lib\\site-packages (from SALib) (1.12.0)\n",
      "Requirement already satisfied: contourpy>=1.0.1 in c:\\anaconda\\envs\\notebook-7.0.8_1\\lib\\site-packages (from matplotlib>=3.2.2->SALib) (1.2.0)\n",
      "Requirement already satisfied: cycler>=0.10 in c:\\anaconda\\envs\\notebook-7.0.8_1\\lib\\site-packages (from matplotlib>=3.2.2->SALib) (0.12.1)\n",
      "Requirement already satisfied: fonttools>=4.22.0 in c:\\anaconda\\envs\\notebook-7.0.8_1\\lib\\site-packages (from matplotlib>=3.2.2->SALib) (4.50.0)\n",
      "Requirement already satisfied: kiwisolver>=1.3.1 in c:\\anaconda\\envs\\notebook-7.0.8_1\\lib\\site-packages (from matplotlib>=3.2.2->SALib) (1.4.5)\n",
      "Requirement already satisfied: packaging>=20.0 in c:\\anaconda\\envs\\notebook-7.0.8_1\\lib\\site-packages (from matplotlib>=3.2.2->SALib) (23.2)\n",
      "Requirement already satisfied: pillow>=8 in c:\\anaconda\\envs\\notebook-7.0.8_1\\lib\\site-packages (from matplotlib>=3.2.2->SALib) (10.2.0)\n",
      "Requirement already satisfied: pyparsing>=2.3.1 in c:\\anaconda\\envs\\notebook-7.0.8_1\\lib\\site-packages (from matplotlib>=3.2.2->SALib) (3.1.2)\n",
      "Requirement already satisfied: python-dateutil>=2.7 in c:\\anaconda\\envs\\notebook-7.0.8_1\\lib\\site-packages (from matplotlib>=3.2.2->SALib) (2.8.2)\n",
      "Requirement already satisfied: pytz>=2020.1 in c:\\anaconda\\envs\\notebook-7.0.8_1\\lib\\site-packages (from pandas>=1.2->SALib) (2023.3.post1)\n",
      "Requirement already satisfied: tzdata>=2022.7 in c:\\anaconda\\envs\\notebook-7.0.8_1\\lib\\site-packages (from pandas>=1.2->SALib) (2024.1)\n",
      "Requirement already satisfied: dill>=0.3.8 in c:\\anaconda\\envs\\notebook-7.0.8_1\\lib\\site-packages (from multiprocess->SALib) (0.3.8)\n",
      "Requirement already satisfied: six>=1.5 in c:\\anaconda\\envs\\notebook-7.0.8_1\\lib\\site-packages (from python-dateutil>=2.7->matplotlib>=3.2.2->SALib) (1.16.0)\n"
     ]
    }
   ],
   "source": [
    "# !pip install SALib --upgrade"
   ]
  },
  {
   "cell_type": "code",
   "execution_count": 5,
   "id": "c0cacd96-5539-4e9f-a6be-3c0d1687eb6f",
   "metadata": {},
   "outputs": [
    {
     "name": "stdout",
     "output_type": "stream",
     "text": [
      "S1:\n",
      "[-4.40135627e-07 -1.68418294e-06  9.95048732e-01]\n",
      "\n",
      "S1_conf:\n",
      "[2.19025851e-05 2.15343108e-05 7.52539423e-02]\n",
      "\n",
      "ST:\n",
      "[6.00409965e-08 6.04216064e-08 9.94714122e-01]\n",
      "\n",
      "ST_conf:\n",
      "[5.56347730e-09 4.85572650e-09 5.96367798e-02]\n",
      "\n",
      "S2:\n",
      "[[           nan 1.66367816e-06 5.92757348e-07]\n",
      " [           nan            nan 3.08117309e-06]\n",
      " [           nan            nan            nan]]\n",
      "\n",
      "S2_conf:\n",
      "[[           nan 2.91871278e-05 3.35799179e-05]\n",
      " [           nan            nan 3.20639012e-05]\n",
      " [           nan            nan            nan]]\n",
      "\n"
     ]
    }
   ],
   "source": [
    "import numpy as np\n",
    "from SALib.sample import sobol as sobol_sample\n",
    "from SALib.analyze import sobol as sobol_analyze\n",
    "\n",
    "def f(x): \n",
    "    return 10**(-4)*np.sin(x[:, 0] + x[:, 1]) + x[:, 2]\n",
    "\n",
    "par = {\n",
    "    'num_vars': 3,\n",
    "    'names': ['x1', 'x2', 'x3'],\n",
    "    'bounds': [[-np.pi, np.pi], [-np.pi, np.pi], [0, 1]]\n",
    "}\n",
    "\n",
    "# Генерация выборки\n",
    "sample = sobol_sample.sample(par, 1000)\n",
    "# Вычисление значений функции на сгенерированных наборах параметров\n",
    "y = f(sample)\n",
    "# Вычисление индексов чувствительности методом Sobol\n",
    "sensitive = sobol_analyze.analyze(par, y)\n",
    "\n",
    "for key, value in sensitive.items():\n",
    "    print(f\"{key}:\")\n",
    "    print(value)\n",
    "    print()"
   ]
  }
 ],
 "metadata": {
  "kernelspec": {
   "display_name": "Python 3 (ipykernel)",
   "language": "python",
   "name": "python3"
  },
  "language_info": {
   "codemirror_mode": {
    "name": "ipython",
    "version": 3
   },
   "file_extension": ".py",
   "mimetype": "text/x-python",
   "name": "python",
   "nbconvert_exporter": "python",
   "pygments_lexer": "ipython3",
   "version": "3.12.2"
  }
 },
 "nbformat": 4,
 "nbformat_minor": 5
}
